{
 "cells": [
  {
   "cell_type": "markdown",
   "metadata": {},
   "source": [
    "# Projeto 1 - Ciência dos Dados"
   ]
  },
  {
   "cell_type": "markdown",
   "metadata": {},
   "source": [
    "Nome: Matheus Pereira Belarmino\n",
    "\n",
    "Nome: Augusto Ricardo Ferreira\n",
    "\n",
    "Nome: Diogo Gingler Diniz"
   ]
  },
  {
   "cell_type": "markdown",
   "metadata": {},
   "source": [
    "Atenção: Serão permitidos grupos de até 4 pessoas, mas com uma rubrica mais exigente. "
   ]
  },
  {
   "cell_type": "markdown",
   "metadata": {},
   "source": [
    "___\n",
    "Carregando algumas bibliotecas:"
   ]
  },
  {
   "cell_type": "code",
   "execution_count": 1,
   "metadata": {},
   "outputs": [],
   "source": [
    "%matplotlib inline\n",
    "import pandas as pd\n",
    "import matplotlib.pyplot as plt\n",
    "import numpy as np\n",
    "import os"
   ]
  },
  {
   "cell_type": "code",
   "execution_count": 2,
   "metadata": {
    "scrolled": false
   },
   "outputs": [
    {
     "name": "stdout",
     "output_type": "stream",
     "text": [
      "Esperamos trabalhar no diretório\n",
      "c:\\Users\\matheus\\Desktop\\codigos\\Cdados_denovo_;(\\projeto_1\\Projeto1-Cdados-24\n"
     ]
    }
   ],
   "source": [
    "print('Esperamos trabalhar no diretório')\n",
    "print(os.getcwd())"
   ]
  },
  {
   "cell_type": "markdown",
   "metadata": {},
   "source": [
    "Carregando a base de dados com as mensagens dos seus arquivos:"
   ]
  },
  {
   "cell_type": "code",
   "execution_count": 3,
   "metadata": {},
   "outputs": [
    {
     "data": {
      "text/html": [
       "<div>\n",
       "<style scoped>\n",
       "    .dataframe tbody tr th:only-of-type {\n",
       "        vertical-align: middle;\n",
       "    }\n",
       "\n",
       "    .dataframe tbody tr th {\n",
       "        vertical-align: top;\n",
       "    }\n",
       "\n",
       "    .dataframe thead th {\n",
       "        text-align: right;\n",
       "    }\n",
       "</style>\n",
       "<table border=\"1\" class=\"dataframe\">\n",
       "  <thead>\n",
       "    <tr style=\"text-align: right;\">\n",
       "      <th></th>\n",
       "      <th>sentence</th>\n",
       "      <th>target</th>\n",
       "    </tr>\n",
       "  </thead>\n",
       "  <tbody>\n",
       "    <tr>\n",
       "      <th>0</th>\n",
       "      <td>If the reasoning is from initial facts to an u...</td>\n",
       "      <td>HG</td>\n",
       "    </tr>\n",
       "    <tr>\n",
       "      <th>1</th>\n",
       "      <td>The use of information technology in governmen...</td>\n",
       "      <td>HG</td>\n",
       "    </tr>\n",
       "    <tr>\n",
       "      <th>2</th>\n",
       "      <td>Additionally, players should always gamble res...</td>\n",
       "      <td>AI</td>\n",
       "    </tr>\n",
       "    <tr>\n",
       "      <th>3</th>\n",
       "      <td>Search filters: Make sure the job site has sea...</td>\n",
       "      <td>AI</td>\n",
       "    </tr>\n",
       "    <tr>\n",
       "      <th>4</th>\n",
       "      <td>Yes‚ these accounts were sometimes hidden‚ Mic...</td>\n",
       "      <td>HG</td>\n",
       "    </tr>\n",
       "  </tbody>\n",
       "</table>\n",
       "</div>"
      ],
      "text/plain": [
       "                                            sentence target\n",
       "0  If the reasoning is from initial facts to an u...     HG\n",
       "1  The use of information technology in governmen...     HG\n",
       "2  Additionally, players should always gamble res...     AI\n",
       "3  Search filters: Make sure the job site has sea...     AI\n",
       "4  Yes‚ these accounts were sometimes hidden‚ Mic...     HG"
      ]
     },
     "execution_count": 3,
     "metadata": {},
     "output_type": "execute_result"
    }
   ],
   "source": [
    "train = pd.read_csv('dados_treino_TRIO_matheuspb.csv')\n",
    "train.head(5)"
   ]
  },
  {
   "cell_type": "code",
   "execution_count": 4,
   "metadata": {},
   "outputs": [
    {
     "data": {
      "text/html": [
       "<div>\n",
       "<style scoped>\n",
       "    .dataframe tbody tr th:only-of-type {\n",
       "        vertical-align: middle;\n",
       "    }\n",
       "\n",
       "    .dataframe tbody tr th {\n",
       "        vertical-align: top;\n",
       "    }\n",
       "\n",
       "    .dataframe thead th {\n",
       "        text-align: right;\n",
       "    }\n",
       "</style>\n",
       "<table border=\"1\" class=\"dataframe\">\n",
       "  <thead>\n",
       "    <tr style=\"text-align: right;\">\n",
       "      <th></th>\n",
       "      <th>sentence</th>\n",
       "      <th>target</th>\n",
       "    </tr>\n",
       "  </thead>\n",
       "  <tbody>\n",
       "    <tr>\n",
       "      <th>0</th>\n",
       "      <td>com offers a search engine that emphasizes inf...</td>\n",
       "      <td>HG</td>\n",
       "    </tr>\n",
       "    <tr>\n",
       "      <th>1</th>\n",
       "      <td>Cyberpunk typically features protagonists who ...</td>\n",
       "      <td>AI</td>\n",
       "    </tr>\n",
       "    <tr>\n",
       "      <th>2</th>\n",
       "      <td>They are often used in data centers and other ...</td>\n",
       "      <td>AI</td>\n",
       "    </tr>\n",
       "    <tr>\n",
       "      <th>3</th>\n",
       "      <td>In the late 1990s and early 2000s, the popular...</td>\n",
       "      <td>AI</td>\n",
       "    </tr>\n",
       "    <tr>\n",
       "      <th>4</th>\n",
       "      <td>Stacks are commonly used in programming, espec...</td>\n",
       "      <td>AI</td>\n",
       "    </tr>\n",
       "  </tbody>\n",
       "</table>\n",
       "</div>"
      ],
      "text/plain": [
       "                                            sentence target\n",
       "0  com offers a search engine that emphasizes inf...     HG\n",
       "1  Cyberpunk typically features protagonists who ...     AI\n",
       "2  They are often used in data centers and other ...     AI\n",
       "3  In the late 1990s and early 2000s, the popular...     AI\n",
       "4  Stacks are commonly used in programming, espec...     AI"
      ]
     },
     "execution_count": 4,
     "metadata": {},
     "output_type": "execute_result"
    }
   ],
   "source": [
    "test = pd.read_csv('dados_teste_TRIO_matheuspb.csv')\n",
    "test.head(5)"
   ]
  },
  {
   "cell_type": "markdown",
   "metadata": {},
   "source": [
    "___\n",
    "## Classificador automático\n"
   ]
  },
  {
   "cell_type": "markdown",
   "metadata": {},
   "source": [
    "Faça aqui uma descrição do seu assunto e o contexto referente aos rótulos cujas mensagens (ou reviews) deverão ser classificadas.\n",
    "\n",
    "ESCREVA AQUI..."
   ]
  },
  {
   "cell_type": "markdown",
   "metadata": {},
   "source": [
    "___\n",
    "### Montando um Classificador Naive-Bayes\n",
    "\n",
    "Considerando apenas as mensagens da planilha Treinamento, ensine  seu classificador."
   ]
  },
  {
   "cell_type": "code",
   "execution_count": 45,
   "metadata": {},
   "outputs": [
    {
     "data": {
      "text/html": [
       "<div>\n",
       "<style scoped>\n",
       "    .dataframe tbody tr th:only-of-type {\n",
       "        vertical-align: middle;\n",
       "    }\n",
       "\n",
       "    .dataframe tbody tr th {\n",
       "        vertical-align: top;\n",
       "    }\n",
       "\n",
       "    .dataframe thead th {\n",
       "        text-align: right;\n",
       "    }\n",
       "</style>\n",
       "<table border=\"1\" class=\"dataframe\">\n",
       "  <thead>\n",
       "    <tr style=\"text-align: right;\">\n",
       "      <th></th>\n",
       "      <th>sentence</th>\n",
       "      <th>target</th>\n",
       "    </tr>\n",
       "  </thead>\n",
       "  <tbody>\n",
       "    <tr>\n",
       "      <th>0</th>\n",
       "      <td>com offers a search engine that emphasizes inf...</td>\n",
       "      <td>HG</td>\n",
       "    </tr>\n",
       "    <tr>\n",
       "      <th>1</th>\n",
       "      <td>Cyberpunk typically features protagonists who ...</td>\n",
       "      <td>AI</td>\n",
       "    </tr>\n",
       "    <tr>\n",
       "      <th>2</th>\n",
       "      <td>They are often used in data centers and other ...</td>\n",
       "      <td>AI</td>\n",
       "    </tr>\n",
       "    <tr>\n",
       "      <th>3</th>\n",
       "      <td>In the late 1990s and early 2000s, the popular...</td>\n",
       "      <td>AI</td>\n",
       "    </tr>\n",
       "    <tr>\n",
       "      <th>4</th>\n",
       "      <td>Stacks are commonly used in programming, espec...</td>\n",
       "      <td>AI</td>\n",
       "    </tr>\n",
       "    <tr>\n",
       "      <th>...</th>\n",
       "      <td>...</td>\n",
       "      <td>...</td>\n",
       "    </tr>\n",
       "    <tr>\n",
       "      <th>625</th>\n",
       "      <td>EPS (Encapsulated PostScript) is a vector-base...</td>\n",
       "      <td>HG</td>\n",
       "    </tr>\n",
       "    <tr>\n",
       "      <th>626</th>\n",
       "      <td>Data that is highly secure may be more difficu...</td>\n",
       "      <td>AI</td>\n",
       "    </tr>\n",
       "    <tr>\n",
       "      <th>627</th>\n",
       "      <td>9 and V1.</td>\n",
       "      <td>HG</td>\n",
       "    </tr>\n",
       "    <tr>\n",
       "      <th>628</th>\n",
       "      <td>Collaboration: Allows users to collaborate on ...</td>\n",
       "      <td>AI</td>\n",
       "    </tr>\n",
       "    <tr>\n",
       "      <th>629</th>\n",
       "      <td>An emulator is a program that runs on one comp...</td>\n",
       "      <td>HG</td>\n",
       "    </tr>\n",
       "  </tbody>\n",
       "</table>\n",
       "<p>630 rows × 2 columns</p>\n",
       "</div>"
      ],
      "text/plain": [
       "                                              sentence target\n",
       "0    com offers a search engine that emphasizes inf...     HG\n",
       "1    Cyberpunk typically features protagonists who ...     AI\n",
       "2    They are often used in data centers and other ...     AI\n",
       "3    In the late 1990s and early 2000s, the popular...     AI\n",
       "4    Stacks are commonly used in programming, espec...     AI\n",
       "..                                                 ...    ...\n",
       "625  EPS (Encapsulated PostScript) is a vector-base...     HG\n",
       "626  Data that is highly secure may be more difficu...     AI\n",
       "627                                          9 and V1.     HG\n",
       "628  Collaboration: Allows users to collaborate on ...     AI\n",
       "629  An emulator is a program that runs on one comp...     HG\n",
       "\n",
       "[630 rows x 2 columns]"
      ]
     },
     "execution_count": 45,
     "metadata": {},
     "output_type": "execute_result"
    }
   ],
   "source": [
    "pd.read_csv('dados_teste_TRIO_matheuspb.csv')"
   ]
  },
  {
   "cell_type": "code",
   "execution_count": 46,
   "metadata": {},
   "outputs": [
    {
     "data": {
      "text/plain": [
       "AI    787\n",
       "HG    683\n",
       "Name: target, dtype: int64"
      ]
     },
     "execution_count": 46,
     "metadata": {},
     "output_type": "execute_result"
    }
   ],
   "source": [
    "def limpa_texto(texto):\n",
    "    caractere_especial = ['”','“','‚', '!', '@', '¨', '#', '$',  '%', '&', '*', '?', '\"','.','-','(',')',':']\n",
    "    texto_limpo = ''\n",
    "    for letra in texto:\n",
    "        if letra not in  caractere_especial:\n",
    "            letra_nova = letra.lower()\n",
    "            texto_limpo += letra_nova\n",
    "    return texto_limpo\n",
    "\n",
    "# limpeza do test\n",
    "test['sentence'] = test['sentence'].apply(limpa_texto)\n",
    "test['target'].value_counts()\n",
    "\n",
    "# limpeza do train\n",
    "train['sentence'] = train['sentence'].apply(limpa_texto)\n",
    "train['target'].value_counts()\n"
   ]
  },
  {
   "cell_type": "code",
   "execution_count": 47,
   "metadata": {},
   "outputs": [
    {
     "data": {
      "text/plain": [
       "and                       6.152023e-06\n",
       "the                       4.827528e-06\n",
       "to                        3.749115e-06\n",
       "of                        3.531985e-06\n",
       "a                         3.314855e-06\n",
       "                              ...     \n",
       "competitorsmaintaining    7.237674e-09\n",
       "success                   7.237674e-09\n",
       "campaigngates             7.237674e-09\n",
       "2000,                     7.237674e-09\n",
       "wellbeing,                7.237674e-09\n",
       "Length: 4156, dtype: float64"
      ]
     },
     "execution_count": 47,
     "metadata": {},
     "output_type": "execute_result"
    }
   ],
   "source": [
    "def separador_texto(dt,tag):\n",
    "    k=0\n",
    "    texto=''\n",
    "\n",
    "    if tag == 'HG' or tag == 'AI':\n",
    "        frases= dt[dt['target'] == tag]['sentence']\n",
    "        for i in frases:\n",
    "            texto += i\n",
    "    else:\n",
    "        while k < len(dt['sentence']):\n",
    "            texto += dt['sentence'][k]\n",
    "\n",
    "            k+=1\n",
    "\n",
    "    return pd.Series(texto.split()).value_counts(True)\n",
    "\n",
    "palavras_AI = separador_texto(train,'AI')\n",
    "palavras_HG = separador_texto(train,'HG')\n",
    "\n",
    "quantidade_AI = len(palavras_AI)\n",
    "quantidade_HG =len(palavras_HG)\n",
    "total_palavras = quantidade_HG + quantidade_AI\n",
    "\n",
    "prob_AI = palavras_AI/total_palavras\n",
    "prob_HG = palavras_HG/total_palavras\n",
    "\n",
    "prob_AI"
   ]
  },
  {
   "cell_type": "code",
   "execution_count": 48,
   "metadata": {},
   "outputs": [],
   "source": [
    "def calcula_probabilidade(target, comentario, palavras_target, total_target, total_palavras):\n",
    "    prob_condicional = 1\n",
    "\n",
    "    for palavra in comentario.split():\n",
    "        prob_palavra = palavras_target.get(palavra, 1 / (total_target + total_palavras))\n",
    "\n",
    "        prob_condicional *= prob_palavra\n",
    "\n",
    "    prob_a_priori = total_target / total_palavras\n",
    "    probabilidade = prob_condicional * prob_a_priori\n",
    "\n",
    "    return probabilidade\n"
   ]
  },
  {
   "cell_type": "markdown",
   "metadata": {},
   "source": [
    "___\n",
    "### Verificando a performance do Classificador\n",
    "\n",
    "Agora você deve testar o seu classificador com a base de Testes."
   ]
  },
  {
   "cell_type": "code",
   "execution_count": 60,
   "metadata": {},
   "outputs": [],
   "source": [
    "acertos_AI = 0\n",
    "acertos_HG = 0\n",
    "erros_AI = 0\n",
    "erros_HG = 0\n",
    "\n",
    "for comentario, categoria_real in zip(test['sentence'], test['target']):\n",
    "\n",
    "    prob_AI = calcula_probabilidade('AI', comentario, palavras_AI, quantidade_AI, total_palavras)\n",
    "    prob_HG = calcula_probabilidade('HG', comentario, palavras_HG, quantidade_HG, total_palavras)\n",
    "\n",
    "    previsao_categoria = 'AI' if prob_AI > prob_HG else 'HG'\n",
    "\n",
    "    # avalia os acertos e erros\n",
    "    if previsao_categoria == categoria_real:\n",
    "        if previsao_categoria == 'AI':\n",
    "            acertos_AI += 1\n",
    "        else:\n",
    "            acertos_HG += 1\n",
    "    else:\n",
    "        if categoria_real == 'AI':\n",
    "            erros_AI += 1\n",
    "        else:\n",
    "            erros_HG += 1\n",
    "\n",
    "# calculo dos totais ai e hg\n",
    "total_AI = acertos_AI + erros_AI\n",
    "total_HG = acertos_HG + erros_HG\n",
    "total = total_AI + total_HG\n",
    "\n",
    "# calculo das perfomances\n",
    "verdadeiro_positivo_AI = (acertos_AI / total_AI) * 100\n",
    "\n",
    "verdadeiro_negativo_HG = (acertos_HG / total_HG) * 100\n",
    "\n",
    "verdadeiro_total = ((acertos_AI + acertos_HG) / total) * 100\n",
    "\n",
    "falso_positivo_HG = (erros_HG / total_HG) * 100\n",
    "\n",
    "falso_negativo_AI = (erros_AI / total_AI) * 100\n",
    "\n",
    "acuracia = verdadeiro_total * 100\n",
    "\n",
    "\n"
   ]
  },
  {
   "cell_type": "code",
   "execution_count": 61,
   "metadata": {},
   "outputs": [
    {
     "name": "stdout",
     "output_type": "stream",
     "text": [
      "Acurácia: 7761.90\n",
      "Verdadeiro Positivo (AI): 84.77\n",
      "Verdadeiro Negativo (HG): 68.79\n",
      "Falso Positivo (HG): 31.21\n",
      "Falso Negativo (AI): 15.23\n"
     ]
    }
   ],
   "source": [
    "print(f\"Acurácia: {acuracia:.2f}\")\n",
    "print(f\"Verdadeiro Positivo (AI): {verdadeiro_positivo_AI:.2f}\")\n",
    "print(f\"Verdadeiro Negativo (HG): {verdadeiro_negativo_HG:.2f}\")\n",
    "print(f\"Falso Positivo (HG): {falso_positivo_HG:.2f}\")\n",
    "print(f\"Falso Negativo (AI): {falso_negativo_AI:.2f}\")"
   ]
  },
  {
   "cell_type": "markdown",
   "metadata": {},
   "source": [
    "___\n",
    "### Concluindo"
   ]
  },
  {
   "cell_type": "code",
   "execution_count": null,
   "metadata": {},
   "outputs": [],
   "source": []
  },
  {
   "cell_type": "code",
   "execution_count": null,
   "metadata": {},
   "outputs": [],
   "source": []
  },
  {
   "cell_type": "code",
   "execution_count": null,
   "metadata": {},
   "outputs": [],
   "source": []
  },
  {
   "cell_type": "markdown",
   "metadata": {},
   "source": [
    "___\n",
    "### Qualidade do Classificador a partir de novas separações das mensagens entre Treinamento e Teste\n",
    "\n",
    "Caso for fazer esse item do Projeto"
   ]
  },
  {
   "cell_type": "code",
   "execution_count": null,
   "metadata": {},
   "outputs": [],
   "source": []
  },
  {
   "cell_type": "code",
   "execution_count": null,
   "metadata": {},
   "outputs": [],
   "source": []
  },
  {
   "cell_type": "code",
   "execution_count": null,
   "metadata": {},
   "outputs": [],
   "source": []
  },
  {
   "cell_type": "markdown",
   "metadata": {},
   "source": [
    "___\n",
    "## Aperfeiçoamento:\n",
    "\n",
    "Trabalhos que conseguirem pelo menos conceito B vão evoluir em conceito dependendo da quantidade de itens avançados:\n",
    "\n",
    "* IMPLEMENTOU outras limpezas e transformações que não afetem a qualidade da informação contida nas mensagens. Ex: stemming, lemmatization, stopwords\n",
    "* CONSIDEROU arquivo com três categorias na classificação das variáveis (OBRIGATÓRIO PARA QUARTETOS, sem contar como item avançado)\n",
    "* CONSTRUIU o cálculo das probabilidades corretamente utilizando bigramas E apresentou referência sobre o método utilizado.\n",
    "* EXPLICOU porquê não pode usar o próprio classificador para gerar mais amostras de treinamento\n",
    "* PROPÔS diferentes cenários para Naïve Bayes fora do contexto do projeto (pelo menos dois cenários diferentes, exceto aqueles já apresentados em sala pelos professores: por exemplo, filtro de spam)\n",
    "* SUGERIU e EXPLICOU melhorias reais com indicações concretas de como implementar (indicar como fazer e indicar material de pesquisa)\n",
    "* FEZ o item Qualidade do Classificador a partir de novas separações das mensagens entre Treinamento e Teste descrito no enunciado do projeto (OBRIGATÓRIO para conceitos A ou A+)\n"
   ]
  },
  {
   "cell_type": "markdown",
   "metadata": {},
   "source": [
    "___\n",
    "## Referências"
   ]
  },
  {
   "cell_type": "markdown",
   "metadata": {},
   "source": [
    "[Naive Bayes and Text Classification](https://arxiv.org/pdf/1410.5329.pdf)  **Mais completo**\n",
    "\n",
    "[A practical explanation of a Naive Bayes Classifier](https://monkeylearn.com/blog/practical-explanation-naive-bayes-classifier/) **Mais simples**"
   ]
  },
  {
   "cell_type": "code",
   "execution_count": null,
   "metadata": {},
   "outputs": [],
   "source": []
  }
 ],
 "metadata": {
  "kernelspec": {
   "display_name": "Python 3 (ipykernel)",
   "language": "python",
   "name": "python3"
  },
  "language_info": {
   "codemirror_mode": {
    "name": "ipython",
    "version": 3
   },
   "file_extension": ".py",
   "mimetype": "text/x-python",
   "name": "python",
   "nbconvert_exporter": "python",
   "pygments_lexer": "ipython3",
   "version": "3.9.13"
  }
 },
 "nbformat": 4,
 "nbformat_minor": 4
}
